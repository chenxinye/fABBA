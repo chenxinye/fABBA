{
 "cells": [
  {
   "cell_type": "code",
   "execution_count": 1,
   "id": "typical-artist",
   "metadata": {},
   "outputs": [
    {
     "data": {
      "text/plain": [
       "Compression rate 0.5       0.184\n",
       "Digitization rate 0.5      0.227\n",
       "MSE 0.5                  820.211\n",
       "Compression rate 0.3       0.251\n",
       "Digitization rate 0.3      0.146\n",
       "MSE 0.3                  431.675\n",
       "Compression rate 0.1       0.396\n",
       "Digitization rate 0.1      0.065\n",
       "MSE 0.1                  106.468\n",
       "dtype: float64"
      ]
     },
     "execution_count": 1,
     "metadata": {},
     "output_type": "execute_result"
    }
   ],
   "source": [
    "import pandas as pd\n",
    "\n",
    "save_df = pd.read_csv('results/infoIMG.csv')\n",
    "save_df.mean(axis=0).round(3)"
   ]
  },
  {
   "cell_type": "code",
   "execution_count": null,
   "id": "infrared-position",
   "metadata": {},
   "outputs": [],
   "source": []
  }
 ],
 "metadata": {
  "kernelspec": {
   "display_name": "Python 3",
   "language": "python",
   "name": "python3"
  },
  "language_info": {
   "codemirror_mode": {
    "name": "ipython",
    "version": 3
   },
   "file_extension": ".py",
   "mimetype": "text/x-python",
   "name": "python",
   "nbconvert_exporter": "python",
   "pygments_lexer": "ipython3",
   "version": "3.9.2"
  }
 },
 "nbformat": 4,
 "nbformat_minor": 5
}
