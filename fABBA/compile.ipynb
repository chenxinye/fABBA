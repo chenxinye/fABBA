{
 "cells": [
  {
   "cell_type": "raw",
   "id": "literary-toronto",
   "metadata": {},
   "source": [
    "# %load_ext Cython\n",
    "!python3 setup.py build_ext --inplace"
   ]
  },
  {
   "cell_type": "raw",
   "id": "intelligent-relevance",
   "metadata": {},
   "source": [
    "from fABBA.extmod.chainApproximation_cm import compress as compress_cm\n",
    "from fABBA.extmod.chainApproximation_c import compress as compress_c\n",
    "from fABBA.extmod.fabba_agg_cm import aggregate as aggregate_cm\n",
    "from fABBA.extmod.fabba_agg_c import aggregate as aggregate_c\n",
    "import numpy as np"
   ]
  },
  {
   "cell_type": "raw",
   "id": "arabic-bronze",
   "metadata": {},
   "source": [
    "!rm -r fABBA"
   ]
  }
 ],
 "metadata": {
  "kernelspec": {
   "display_name": "Python 3",
   "language": "python",
   "name": "python3"
  },
  "language_info": {
   "codemirror_mode": {
    "name": "ipython",
    "version": 3
   },
   "file_extension": ".py",
   "mimetype": "text/x-python",
   "name": "python",
   "nbconvert_exporter": "python",
   "pygments_lexer": "ipython3",
   "version": "3.9.2"
  }
 },
 "nbformat": 4,
 "nbformat_minor": 5
}
