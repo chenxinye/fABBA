{
 "cells": [
  {
   "cell_type": "code",
   "execution_count": null,
   "id": "forbidden-lambda",
   "metadata": {},
   "outputs": [],
   "source": [
    "import numpy as np\n",
    "import matplotlib.pyplot as plt\n",
    "import fABBA\n",
    "from fABBA import fABBA"
   ]
  },
  {
   "cell_type": "code",
   "execution_count": null,
   "id": "angry-section",
   "metadata": {},
   "outputs": [],
   "source": [
    "np.random.seed(1)\n",
    "N = 100\n",
    "ts = [np.sin(0.05*i) for i in range(1000)]          # original time series\n",
    "fabba = fABBA(tol=0.1, alpha=0.1, sorting='norm', scl=1, verbose=0)\n",
    "print(fabba)\n",
    "string = fabba.fit_transform(ts)\n",
    "print(string)\n",
    "inverse_ts = fabba.inverse_transform(string, ts[0])\n",
    "# print(inverse_ts)\n",
    "plt.plot(ts, label='time series')\n",
    "plt.plot(inverse_ts, label='reconstruction')\n",
    "plt.legend()\n",
    "plt.grid(True, axis='y')\n",
    "plt.savefig('demo.png', bbox_inches='tight')\n",
    "plt.show()"
   ]
  },
  {
   "cell_type": "code",
   "execution_count": null,
   "id": "sealed-chassis",
   "metadata": {},
   "outputs": [],
   "source": [
    "import numpy as np\n",
    "from fABBA import compress\n",
    "from fABBA import inverse_compress\n",
    "ts = [np.sin(0.05*i) for i in range(1000)]\n",
    "pieces = compress(ts, tol=0.1)               # pieces is a list of the polygonal chain pieces\n",
    "inverse_ts = inverse_compress(pieces, ts[0]) # reconstruct polygonal chain from pieces"
   ]
  },
  {
   "cell_type": "code",
   "execution_count": null,
   "id": "fresh-weather",
   "metadata": {},
   "outputs": [],
   "source": [
    "from fABBA import digitize\n",
    "from fABBA import inverse_digitize\n",
    "string, parameters = digitize(pieces, alpha=0.1, sorting='2-norm', scl=1) # compression of the polygon\n",
    "print(''.join(string))                                 # prints BbAaAaAaAaAaAaAaC\n",
    "\n",
    "inverse_pieces = inverse_digitize(string, parameters)\n",
    "inverse_ts = inverse_compress(inverse_pieces, ts[0])   # numerical time series reconstruction"
   ]
  },
  {
   "cell_type": "code",
   "execution_count": null,
   "id": "middle-bride",
   "metadata": {},
   "outputs": [],
   "source": [
    "from sklearn.cluster import KMeans\n",
    "from fABBA import ABBAbase\n",
    "kmeans = KMeans(n_clusters=5, random_state=0)\n",
    "abba = ABBAbase(tol=0.1, scl=1, clustering=kmeans, verbose=0)\n",
    "string = abba.fit_transform(ts)\n",
    "print(string)"
   ]
  },
  {
   "cell_type": "code",
   "execution_count": null,
   "id": "imperial-polls",
   "metadata": {},
   "outputs": [],
   "source": [
    "from fABBA import ABBA\n",
    "abba = ABBA(tol=0.1, scl=1, k=5, verbose=0)\n",
    "string = abba.fit_transform(ts)\n",
    "print(string)"
   ]
  },
  {
   "cell_type": "code",
   "execution_count": null,
   "id": "under-wellington",
   "metadata": {},
   "outputs": [],
   "source": [
    "from fABBA import compress\n",
    "from fABBA import inverse_compress\n",
    "\n",
    "pieces = compress(ts, 0.1)\n",
    "print(pieces)\n",
    "inverse_ts = inverse_compress(pieces, ts[0])\n",
    "\n",
    "plt.plot(ts, label='time series')\n",
    "plt.plot(inverse_ts, label='reconstruction')\n",
    "plt.legend()\n",
    "plt.grid(True, axis='y')\n",
    "plt.show()"
   ]
  },
  {
   "cell_type": "code",
   "execution_count": null,
   "id": "senior-accreditation",
   "metadata": {},
   "outputs": [],
   "source": [
    "from fABBA import digitize\n",
    "from fABBA import inverse_digitize\n",
    "string, parameters = digitize(pieces, alpha=0.1, sorting='2-norm', scl=1) # compression of the polygon\n",
    "print(''.join(string))                                 # prints BbAaAaAaAaAaAaAaC\n",
    "\n",
    "inverse_pieces = inverse_digitize(string, parameters)\n",
    "inverse_ts = inverse_compress(inverse_pieces, ts[0])   # numerical time series"
   ]
  },
  {
   "cell_type": "code",
   "execution_count": null,
   "id": "warming-assault",
   "metadata": {
    "tags": []
   },
   "outputs": [],
   "source": [
    "import numpy as np\n",
    "import matplotlib.pyplot as plt\n",
    "from fABBA.load_datasets import load_images\n",
    "from fABBA import image_compress\n",
    "from fABBA import image_decompress\n",
    "from cv2 import resize\n",
    "\n",
    "img_samples = load_images() # load fABBA image test samples\n",
    "img = resize(img_samples[0], (100, 100)) # select the first image for test\n",
    "fabba = fABBA(tol=0.1, alpha=0.01, sorting='2-norm', scl=1, verbose=1, max_len=-1)\n",
    "strings = image_compress(fabba, img)\n",
    "inverse_img = image_decompress(fabba, strings)"
   ]
  },
  {
   "cell_type": "code",
   "execution_count": null,
   "id": "satellite-yukon",
   "metadata": {},
   "outputs": [],
   "source": [
    "IMG = plt.imread('samples/img/n02101556_4241.jpg')"
   ]
  },
  {
   "cell_type": "code",
   "execution_count": null,
   "id": "gentle-marine",
   "metadata": {},
   "outputs": [],
   "source": [
    "plt.imshow(img)\n",
    "plt.savefig('img.png', bbox_inches='tight')\n",
    "plt.show()"
   ]
  },
  {
   "cell_type": "code",
   "execution_count": null,
   "id": "upset-while",
   "metadata": {},
   "outputs": [],
   "source": [
    "plt.imshow(inverse_img)\n",
    "plt.savefig('inverse_img.png', bbox_inches='tight')\n",
    "plt.show()"
   ]
  },
  {
   "cell_type": "code",
   "execution_count": null,
   "id": "e1b3eb8c",
   "metadata": {},
   "outputs": [],
   "source": [
    " "
   ]
  },
  {
   "cell_type": "code",
   "execution_count": null,
   "id": "inner-priority",
   "metadata": {},
   "outputs": [],
   "source": [
    "import os\n",
    "from scipy.io import arff\n",
    "from fABBA import JABBA\n",
    "import matplotlib.pyplot as plt\n",
    "import numpy as np\n",
    "\n",
    "\n",
    "mts = np.random.randn(100, 100)\n",
    "jabba1 = JABBA(tol=0.0002, verbose=1)\n",
    "symbols_series = jabba1.fit_transform(mts)\n",
    "reconstruction = jabba1.inverse_transform(symbols_series)\n",
    "\n",
    "jabba2 = JABBA(tol=0.0002, init='k-means', k=jabba1.parameters.centers.shape[0], verbose=0)\n",
    "symbols_series = jabba2.fit_transform(mts)\n",
    "reconstruction_ABBA = jabba2.inverse_transform(symbols_series)\n",
    "\n",
    "fig, ax = plt.subplots(nrows=2, ncols=3, figsize=(18, 5))\n",
    "\n",
    "for i in range(2):\n",
    "    for j in range(3):\n",
    "        ax[i,j].plot(mts[i*3 + j], c='yellowgreen', linewidth=5,label='time series')\n",
    "        ax[i,j].plot(reconstruction_ABBA[i*3 + j], c='blue', linewidth=5, alpha=0.3,label='reconstruction - J-ABBA')\n",
    "        ax[i,j].plot(reconstruction[i*3 + j], c='purple', linewidth=5, alpha=0.3,label='reconstruction - J-fABBA')\n",
    "\n",
    "        ax[i,j].set_title('dimension '+str(i*3 + j))\n",
    "        ax[i,j].set_xticks([]);ax[i,j].set_yticks([])\n",
    "\n",
    "plt.legend(loc='lower right', bbox_to_anchor=[-0.5, -0.5], framealpha=0.45)\n",
    "plt.show()"
   ]
  },
  {
   "cell_type": "code",
   "execution_count": null,
   "id": "63dc32fa-b786-4b6a-a292-5de2f3fdd5f1",
   "metadata": {},
   "outputs": [],
   "source": []
  },
  {
   "cell_type": "code",
   "execution_count": null,
   "id": "8b971396-694e-42f7-8093-8501e42f0d13",
   "metadata": {},
   "outputs": [],
   "source": [
    "import os\n",
    "from scipy.io import arff\n",
    "from fABBA import JABBA\n",
    "import matplotlib.pyplot as plt\n",
    "import numpy as np\n",
    "mts = np.random.randn(10, 20, 30)\n",
    "\n",
    "\n",
    "jabba1 = JABBA(tol=0.001, alpha=0.01, verbose=1)\n",
    "symbols_series = jabba1.fit_transform(mts)\n",
    "reconstruction = jabba1.inverse_transform(symbols_series)\n",
    "reconstruct_same_shape = jabba1.recast_shape(reconstruction)\n",
    "np.linalg.norm((mts - reconstruct_same_shape).reshape(-1), 2)"
   ]
  },
  {
   "cell_type": "code",
   "execution_count": null,
   "id": "408105bd-eb33-4bd6-b207-6494fc3f5823",
   "metadata": {},
   "outputs": [],
   "source": []
  },
  {
   "cell_type": "code",
   "execution_count": null,
   "id": "be5f7895-dfc0-44ac-936d-938b30f013e5",
   "metadata": {},
   "outputs": [],
   "source": []
  },
  {
   "cell_type": "code",
   "execution_count": null,
   "id": "3947e2be-9d61-4106-a6c5-7f6ef191583e",
   "metadata": {},
   "outputs": [],
   "source": []
  },
  {
   "cell_type": "code",
   "execution_count": null,
   "id": "8bc66bf4-41e7-4ef5-9d68-585a184b5da5",
   "metadata": {},
   "outputs": [],
   "source": []
  }
 ],
 "metadata": {
  "kernelspec": {
   "display_name": "Python 3 (ipykernel)",
   "language": "python",
   "name": "python3"
  },
  "language_info": {
   "codemirror_mode": {
    "name": "ipython",
    "version": 3
   },
   "file_extension": ".py",
   "mimetype": "text/x-python",
   "name": "python",
   "nbconvert_exporter": "python",
   "pygments_lexer": "ipython3",
   "version": "3.11.2"
  }
 },
 "nbformat": 4,
 "nbformat_minor": 5
}
